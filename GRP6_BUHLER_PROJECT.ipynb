{
 "cells": [
  {
   "cell_type": "markdown",
   "metadata": {},
   "source": [
    "# Cryptography project -  Maëlys Bühler\n",
    "\n",
    "This notebooks only works if OpenSSL is installed on the system it's ran on. If an error with OpenSLL occurs, please make sure that OpenSSL is installed.\n",
    "The notebook has been tested on Ubuntu 20.04.6 LTS, running in WSL1.\n",
    "\n",
    "This codes prepares the environnement and create some functions used in the next steps. It must be ran before running any other cell"
   ]
  },
  {
   "cell_type": "code",
   "execution_count": 116,
   "metadata": {},
   "outputs": [],
   "source": [
    "import subprocess\n",
    "import os\n",
    "import shutil\n",
    "\n",
    "def call_command(command):\n",
    "    print(\"$ \" + command)\n",
    "    try:\n",
    "        subproc = subprocess.run(command.split())    \n",
    "        if(subproc.returncode != 0):\n",
    "            print(\"Error:\")\n",
    "            print(\"Return code: \" + str(subproc.returncode))\n",
    "            exit(1)    \n",
    "    except Exception as e:\n",
    "        print(\"Error: \" + e.__class__.__name__ )\n",
    "        print(str(e))\n",
    "        exit(1)\n",
    "\n",
    "def remove_files(files):\n",
    "    for file in files:\n",
    "        if os.path.exists(file):\n",
    "            os.remove(file)\n",
    "\n",
    "def remove_directory(dir):\n",
    "    if os.path.exists(dir):\n",
    "        shutil.rmtree(dir)\n",
    "\n",
    "def create_directory(dir):\n",
    "    if not os.path.exists(dir):\n",
    "        os.makedirs(dir)\n",
    "\n",
    "\n",
    "directories = [\"RSA\", \"sym_keys\", \"messages\", \"messages/plain\", \"messages/encrypted\", \"messages/decrypted\", \"messages/hashed\", \"messages/signed\", \"DSA\"]\n",
    "#create directorys\n",
    "for dir in directories:\n",
    "    remove_directory(dir)\n",
    "    create_directory(dir)"
   ]
  },
  {
   "cell_type": "markdown",
   "metadata": {},
   "source": [
    "## 1. Using assymetric cypher for key exchange: RSA\n",
    "Alice is going to generate a key pair and send the public key to Bob.  \n",
    "To do this, she's going to begin by generating her private key.\n",
    "Using openssl, the command is the following:\n",
    "```\n",
    "openssl genpkey -algorithm RSA -out ./RSA/alice_private_key.pem -pkeyopt rsa_keygen_bits:1024\n",
    "```\n",
    "She's then going to generate the public key linked to this private key. To do so, she uses the following command:\n",
    "```\n",
    "openssl rsa -pubout -in ./RSA/alice_private_key.pem -out ./RSA/alice_public_key.pem\n",
    "```"
   ]
  },
  {
   "cell_type": "code",
   "execution_count": 117,
   "metadata": {},
   "outputs": [
    {
     "name": "stdout",
     "output_type": "stream",
     "text": [
      "$ openssl genpkey -algorithm RSA -out ./RSA/alice_private_key.pem -pkeyopt rsa_keygen_bits:1024\n",
      "$ openssl rsa -pubout -in ./RSA/alice_private_key.pem -out ./RSA/alice_public_key.pem\n"
     ]
    },
    {
     "name": "stderr",
     "output_type": "stream",
     "text": [
      "............+++++\n",
      ".................+++++\n",
      "writing RSA key\n"
     ]
    }
   ],
   "source": [
    "#if files already exist, remove them\n",
    "remove_files([\"alice_private_key.pem\", \"alice_public_key.pem\"])\n",
    "\n",
    "create_private_key = \"openssl genpkey -algorithm RSA -out ./RSA/alice_private_key.pem -pkeyopt rsa_keygen_bits:1024\"\n",
    "create_public_key = \"openssl rsa -pubout -in ./RSA/alice_private_key.pem -out ./RSA/alice_public_key.pem\"\n",
    "call_command(create_private_key)\n",
    "call_command(create_public_key)"
   ]
  },
  {
   "cell_type": "markdown",
   "metadata": {},
   "source": [
    "Now that Alice has her public key, she sends it to Bob, or simply publish it for everyone to find it.  \n",
    "Bob wants to have a secret conversation with her, using a symmetric cypher. He begins by generating a key:\n",
    "```\n",
    "openssl rand -base64 -out ./sym_keys/alice_bob_sym_key.plain 32\n",
    "```\n",
    "He then needs to send to Alice the symmetric key, but to make sure that no-one else can read this symmetric key, he encrypt it using Alice's public key.  \n",
    "  \n",
    "He first put the symmetric key in a file. Let's call it \"sym_key.plain\"\n",
    "Then, he encrypt the file with RSA, using Alice's public key with the following command:\n",
    "```\n",
    "openssl rsautl -encrypt -inkey ./RSA/alice_public_key.pem -pubin -in ./sym_keys/alice_bob_sym_key.plain -out ./sym_keys/alice_bob_sym_key.rsa\n",
    "```\n",
    "He can then send the encrypted file, sym_key.rsa, to Alice. This file can only be decrypted with Alice's private key, and Alice is the only one who has it.\n",
    "Alice, when she received the file, decrypt it:\n",
    "```\n",
    "openssl rsautl -decrypt -inkey ./RSA/alice_private_key.pem -in ./sym_keys/alice_bob_sym_key.rsa -out ./sym_keys/alice_bob_sym_key.dec\n",
    "```\n",
    "She now also has the symmetric key, in the file sym_key.dec"
   ]
  },
  {
   "cell_type": "code",
   "execution_count": 118,
   "metadata": {},
   "outputs": [
    {
     "name": "stdout",
     "output_type": "stream",
     "text": [
      "$ openssl rand -base64 -out ./sym_keys/alice_bob_sym_key.plain 32\n",
      "$ cat ./sym_keys/alice_bob_sym_key.plain\n",
      "49Z2nCWMovpIp1d5IQxSFrWM9wfeTCp3fiPe8qjI6Yk=\n",
      "$ openssl rsautl -encrypt -inkey ./RSA/alice_public_key.pem -pubin -in ./sym_keys/alice_bob_sym_key.plain -out ./sym_keys/alice_bob_sym_key.rsa\n",
      "$ cat ./sym_keys/alice_bob_sym_key.rsa\n",
      "jc���c\u0007�Zf\u0016\u0010(U[�\u0003i \u0015�\u0005\u0000�7ض{��y���y���);\u000b���4�\u0004��\u001bX̾�����\u0016���{��7��\u0017�\u0012\u0003�\u0017bD�}��C\f���h||K��sW$%|\u0005���\u0001�� �K�0pT��\u0017r\u0010w��˸�\u001a\u0015MX6\n",
      "$ openssl rsautl -decrypt -inkey ./RSA/alice_private_key.pem -in ./sym_keys/alice_bob_sym_key.rsa -out ./sym_keys/alice_bob_sym_key.dec\n"
     ]
    },
    {
     "name": "stdout",
     "output_type": "stream",
     "text": [
      "$ cat ./sym_keys/alice_bob_sym_key.dec\n",
      "49Z2nCWMovpIp1d5IQxSFrWM9wfeTCp3fiPe8qjI6Yk=\n"
     ]
    }
   ],
   "source": [
    "#if files already exist, remove them\n",
    "remove_files([\"sym_key.plain\", \"sym_key.rsa\", \"sym_key.dec\"])\n",
    "\n",
    "#create symmetric key\n",
    "create_symmetric_key = \"openssl rand -base64 -out ./sym_keys/alice_bob_sym_key.plain 32\"\n",
    "display_symmetric_key = \"cat ./sym_keys/alice_bob_sym_key.plain\"\n",
    "#encrypt symmetric key\n",
    "encrypt_symmetric_key = \"openssl rsautl -encrypt -inkey ./RSA/alice_public_key.pem -pubin -in ./sym_keys/alice_bob_sym_key.plain -out ./sym_keys/alice_bob_sym_key.rsa\"\n",
    "display_encrypted_symmetric_key = \"cat ./sym_keys/alice_bob_sym_key.rsa\"\n",
    "#decrypt symmetric key\n",
    "decrypt_symmetric_key = \"openssl rsautl -decrypt -inkey ./RSA/alice_private_key.pem -in ./sym_keys/alice_bob_sym_key.rsa -out ./sym_keys/alice_bob_sym_key.dec\"\n",
    "display_decrypted_symmetric_key = \"cat ./sym_keys/alice_bob_sym_key.dec\"\n",
    "call_command(create_symmetric_key)\n",
    "call_command(display_symmetric_key)\n",
    "call_command(encrypt_symmetric_key)\n",
    "call_command(display_encrypted_symmetric_key)\n",
    "print()\n",
    "call_command(decrypt_symmetric_key)\n",
    "call_command(display_decrypted_symmetric_key)"
   ]
  },
  {
   "cell_type": "markdown",
   "metadata": {},
   "source": [
    "## 2. Using symmetric cipher to encrypt/decrypt: RC4 #TODO: MODE CFB\n",
    "Now that both Bob and Alice have the symmetric key for encrypting and decrypting the messages, Bob wants to send a message to Alice.  \n",
    "\n",
    "To do this, he write a message in a file named \"message.txt\".  \n",
    "\n",
    "To encrypt the message, Bob uses the following command:\n",
    "```\n",
    "openssl enc -rc4 -a -pbkdf2 -iter 1000000 -salt -in ./messages/plain/message1_from_bob.txt -out ./messages/encrypted/message1_from_bob.b64 -k <symmetric_key>\n",
    "```\n",
    "Bob can then send the message to Alice.  \n",
    "Alice can decrypt it using:\n",
    "```\n",
    "openssl enc -rc4 -d -a -pbkdf2 -iter 1000000 -in ./messages/encrypted/message1_from_bob.b64 -out ./messages/decrypted/message1_from_bob.dec -k <symmetric_key>\n",
    "```"
   ]
  },
  {
   "cell_type": "code",
   "execution_count": 119,
   "metadata": {},
   "outputs": [
    {
     "name": "stdout",
     "output_type": "stream",
     "text": [
      "Key: 49Z2nCWMovpIp1d5IQxSFrWM9wfeTCp3fiPe8qjI6Yk=\n",
      "\n",
      "$ cat ./messages/plain/message1_from_bob.txt\n",
      "This is a test message.\n",
      "\n",
      "$ openssl enc -rc4 -a -pbkdf2 -iter 1000000 -salt -in ./messages/plain/message1_from_bob.txt -out ./messages/encrypted/message1_from_bob.b64 -k 49Z2nCWMovpIp1d5IQxSFrWM9wfeTCp3fiPe8qjI6Yk=\n",
      "\n"
     ]
    },
    {
     "name": "stdout",
     "output_type": "stream",
     "text": [
      "$ cat ./messages/encrypted/message1_from_bob.b64\n",
      "U2FsdGVkX1+QZlIrLDGkTWaZ6dcEwpaC4aRI1ALXIuaowagXq9G3\n",
      "\n",
      "$ openssl enc -rc4 -d -a -pbkdf2 -iter 1000000 -in ./messages/encrypted/message1_from_bob.b64 -out ./messages/decrypted/message1_from_bob.dec -k 49Z2nCWMovpIp1d5IQxSFrWM9wfeTCp3fiPe8qjI6Yk=\n",
      "\n",
      "$ cat ./messages/decrypted/message1_from_bob.dec\n",
      "This is a test message."
     ]
    }
   ],
   "source": [
    "#if files already exist, remove them\n",
    "remove_files([\"./messages/plain/message1_from_bob.txt\", \"./messages/encrypted/message1_from_bob.b64\", \"./messages/decrypted/message1_from_bob.dec\"])\n",
    "\n",
    "key = \"symmetric_key\"\n",
    "with open(\"./sym_keys/alice_bob_sym_key.dec\", \"r\") as f:\n",
    "    key = f.read()\n",
    "print(\"Key: \" + key)\n",
    "\n",
    "with open(\"./messages/plain/message1_from_bob.txt\", \"x\") as f:\n",
    "    f.write(\"This is a test message.\")\n",
    "\n",
    "display_plain_message = \"cat ./messages/plain/message1_from_bob.txt\"\n",
    "encrypt_message = f\"openssl enc -rc4 -a -pbkdf2 -iter 1000000 -salt -in ./messages/plain/message1_from_bob.txt -out ./messages/encrypted/message1_from_bob.b64 -k {key}\"\n",
    "display_encrypted_message = \"cat ./messages/encrypted/message1_from_bob.b64\"\n",
    "decypt_message = f\"openssl enc -rc4 -d -a -pbkdf2 -iter 1000000 -in ./messages/encrypted/message1_from_bob.b64 -out ./messages/decrypted/message1_from_bob.dec -k {key}\"\n",
    "display_decrypted_message = \"cat ./messages/decrypted/message1_from_bob.dec\"\n",
    "\n",
    "call_command(display_plain_message)\n",
    "print(\"\\n\")\n",
    "call_command(encrypt_message)\n",
    "call_command(display_encrypted_message)\n",
    "print()\n",
    "call_command(decypt_message)\n",
    "call_command(display_decrypted_message)"
   ]
  },
  {
   "cell_type": "markdown",
   "metadata": {},
   "source": [
    "## 3. Use a cryptographic hash: SHA224\n",
    "\n",
    "Alice wants to hash a message, with the SHA224 cryptographic hash.\n",
    "To do so, she uses the command:\n",
    "```\n",
    "openssl dgst -sha224 -out ./messages/hashed/message2_from_alice.hash ./messages/plain/message2_from_alice.txt\n",
    "```\n",
    "She can then find the hash in the hash.txt file."
   ]
  },
  {
   "cell_type": "code",
   "execution_count": 120,
   "metadata": {},
   "outputs": [
    {
     "name": "stdout",
     "output_type": "stream",
     "text": [
      "$ openssl dgst -sha224 -out ./messages/hashed/message2_from_alice.hash ./messages/plain/message2_from_alice.txt\n",
      "$ cat ./messages/hashed/message2_from_alice.hash\n",
      "SHA224(./messages/plain/message2_from_alice.txt)= 6dbee1454fade32c4e4ba7a950bac91ad5e2513d95622989572380a2\n"
     ]
    }
   ],
   "source": [
    "#if files already exist, remove them\n",
    "remove_files([\"./messages/hashed/message2_from_alice.hash\", \"./messages/plain/message2_from_alice.txt\"])\n",
    "\n",
    "with open(\"./messages/plain/message2_from_alice.txt\", \"x\") as f:\n",
    "    f.write(\"This is a test message from Alice.\")\n",
    "\n",
    "hash_message = \"openssl dgst -sha224 -out ./messages/hashed/message2_from_alice.hash ./messages/plain/message2_from_alice.txt\"\n",
    "display_hash = \"cat ./messages/hashed/message2_from_alice.hash\"\n",
    "call_command(hash_message)\n",
    "call_command(display_hash)\n"
   ]
  },
  {
   "cell_type": "markdown",
   "metadata": {},
   "source": [
    "## 4. Sign a message: DSA"
   ]
  },
  {
   "cell_type": "markdown",
   "metadata": {},
   "source": [
    "Alice wants to use the hash of the message to sign it with DSA.  \n",
    "For that she'll need DSA's public and private keys.\n",
    "She'll begin by generating DSA parameters used for the keys generation:\n",
    "```\n",
    "openssl dsaparams -out ./DSA/dsa_param.pem 1024\n",
    "```\n",
    "Using these parameters, she generate her private key\n",
    "```\n",
    "openssl gendsa -out ./DSA/alice_private_key.pem dsa_param.pem\n",
    "```\n",
    "And her public key:\n",
    "```\n",
    "openssl dsa -in ./DSA/alice_private_key.pem -pubout -out ./DSA/alice_public_key.pem\n",
    "```"
   ]
  },
  {
   "cell_type": "code",
   "execution_count": 121,
   "metadata": {},
   "outputs": [
    {
     "name": "stdout",
     "output_type": "stream",
     "text": [
      "$ openssl dsaparam -out ./DSA/dsa_param.pem 1024\n",
      "$ openssl gendsa -out ./DSA/alice_private_key.pem ./DSA/dsa_param.pem\n",
      "$ openssl dsa -in ./DSA/alice_private_key.pem -pubout -out ./DSA/alice_public_key.pem\n"
     ]
    },
    {
     "name": "stderr",
     "output_type": "stream",
     "text": [
      "Generating DSA parameters, 1024 bit long prime\n",
      "This could take some time\n",
      ".............+..+............+.+...+++++++++++++++++++++++++++++++++++++++++++++++++++++++++++++++++*\n",
      ".+......+.....................+.....................................+..+......+..+..........+..+.+...+.............................+........+..............+++++++++++++++++++++++++++++++++++++++++++++++++++++++++++++++++*\n",
      "Generating DSA key, 1024 bits\n",
      "read DSA key\n",
      "writing DSA key\n"
     ]
    }
   ],
   "source": [
    "#if files already exist, remove them\n",
    "remove_files([\"./DSA/dsa_param.pem\", \"./DSA/alice_private_key.pem\", \"./DSA/alice_public_key.pem\"])\n",
    "\n",
    "gen_param = \"openssl dsaparam -out ./DSA/dsa_param.pem 1024\"\n",
    "gen_private_key = \"openssl gendsa -out ./DSA/alice_private_key.pem ./DSA/dsa_param.pem\"\n",
    "gen_public_key = \"openssl dsa -in ./DSA/alice_private_key.pem -pubout -out ./DSA/alice_public_key.pem\"\n",
    "\n",
    "call_command(gen_param)\n",
    "call_command(gen_private_key)\n",
    "call_command(gen_public_key)"
   ]
  },
  {
   "cell_type": "markdown",
   "metadata": {},
   "source": [
    "She uses her DSA private key to sign the hash, using the following command:\n",
    "```\n",
    "openssl dgst -sha224 -sign ./DSA/alice_private_key.pem -out ./messages/signed/message3_from_alice.sign ./messages/hashed/message3_from_alice.hash\n",
    "```\n",
    "She then sent the message and the signature to Bob.\n",
    "Bob, after receiving the message, wants to verify the signature. To do so, he get the sha224 hash of the message in the same Alice did before.\n",
    "```\n",
    "openssl dgst -sha224 -out ./messages/hashed/message3_from_alice.hash ./messages/plain/message3_from_alice.txt\n",
    "```\n",
    "He can now compare the signature and the hash of the message using:\n",
    "```\n",
    "openssl dgst -sha224 -verify ./DSA/alice_public_key.pem -signature ./messages/signed/message3_from_alice.sign ./messages/hashed/message3_from_alice.hash\n",
    "```"
   ]
  },
  {
   "cell_type": "code",
   "execution_count": 133,
   "metadata": {},
   "outputs": [
    {
     "name": "stdout",
     "output_type": "stream",
     "text": [
      "$ openssl dgst -sha224 -out ./messages/hashed/message3_from_alice.hash ./messages/plain/message3_from_alice.txt\n",
      "$ openssl dgst -sha224 -sign ./DSA/alice_private_key.pem -out ./messages/signed/message3_from_alice.sign ./messages/hashed/message3_from_alice.hash\n",
      "$ cat ./messages/signed/message3_from_alice.sign\n",
      "0-\u0002\u0015\u0000�ϑs`�l�Ch���&%6�S�\u0002\u0014&�6N����hb:��\u0018ұ�T\u0003�\n",
      "$ openssl dgst -sha224 -out ./messages/hashed/message3_from_alice.hash ./messages/plain/message3_from_alice.txt\n",
      "$ cat ./messages/hashed/message3_from_alice.hash\n",
      "SHA224(./messages/plain/message3_from_alice.txt)= 6dbee1454fade32c4e4ba7a950bac91ad5e2513d95622989572380a2\n",
      "$ openssl dgst -sha224 -verify ./DSA/alice_public_key.pem -signature ./messages/signed/message3_from_alice.sign ./messages/hashed/message3_from_alice.hash\n",
      "Verified OK\n"
     ]
    }
   ],
   "source": [
    "#if files already exist, remove them\n",
    "remove_files([\"./messages/signed/message3_from_alice.sign\", ])\n",
    "\n",
    "hash_of_alice_message = \"openssl dgst -sha224 -out ./messages/hashed/message3_from_alice.hash ./messages/plain/message3_from_alice.txt\"\n",
    "signature_message = \"openssl dgst -sha224 -sign ./DSA/alice_private_key.pem -out ./messages/signed/message3_from_alice.sign ./messages/hashed/message3_from_alice.hash\"\n",
    "display_signature = \"cat ./messages/signed/message3_from_alice.sign\"\n",
    "display_hash_of_alice_message = \"cat ./messages/hashed/message3_from_alice.hash\"\n",
    "verify_signature = \"openssl dgst -sha224 -verify ./DSA/alice_public_key.pem -signature ./messages/signed/message3_from_alice.sign ./messages/hashed/message3_from_alice.hash\"\n",
    "call_command(hash_of_alice_message)\n",
    "call_command(signature_message)\n",
    "call_command(display_signature)\n",
    "print()\n",
    "#bob do not have alice's message hash, he needs to hash the message first\n",
    "remove_files([\"./messages/hashed/message3_from_alice.hash\", ])\n",
    "call_command(hash_of_alice_message)\n",
    "call_command(display_hash_of_alice_message)\n",
    "call_command(verify_signature)\n"
   ]
  },
  {
   "cell_type": "markdown",
   "metadata": {},
   "source": [
    "## 5. Sign then encrypt VS encrypt then sign\n",
    "### Sign, then encrypt\n",
    "Alice wants to send an encrypted and signed message to Bob.\n",
    "She decides to sign it before encrypting it.\n",
    "\n",
    "To do so, she gets the hash of his message, then use it to get the signature, and then she encrypt the message, using the key exchanged in chapter 1.\n",
    "```\n",
    "openssl dgst -sha224 -out ./messages/hashed/message3_from_alice.hash ./messages/plain/message3_from_alice.txt \n",
    "openssl dgst -sha224 -sign ./RSA_keys/alice_private_key.pem -out ./messages/signed/message3_from_alice.sign ./messages/hashed/message3_from_alice.hash\n",
    "openssl enc -rc4 -a -pbkdf2 -iter 1000000 -salt -in ./messages/plain/message3_from_alice.txt -out ./messages/encrypted/message3_from_alice.b64 -k <symmetric_key>\n",
    "```"
   ]
  },
  {
   "cell_type": "code",
   "execution_count": 123,
   "metadata": {},
   "outputs": [
    {
     "name": "stdout",
     "output_type": "stream",
     "text": [
      "$ openssl dgst -sha224 -out ./messages/hashed/message3_from_alice.hash ./messages/plain/message3_from_alice.txt\n",
      "$ cat ./messages/hashed/message3_from_alice.hash\n",
      "SHA224(./messages/plain/message3_from_alice.txt)= 6dbee1454fade32c4e4ba7a950bac91ad5e2513d95622989572380a2\n",
      "$ openssl dgst -sha224 -sign ./RSA/alice_private_key.pem -out ./messages/signed/message3_from_alice.sign ./messages/hashed/message3_from_alice.hash\n",
      "$ cat ./messages/signed/message3_from_alice.sign\n",
      "-c�C�\u0011�R�ǣ\u001d\u0012���L\u0017�A�_\u0017��O=ﶗ \u0004\u0013��\u001ci������\u001e�\u0015q�Ҕ��\u0002�\u0017\n",
      "0�0�\u001f�t}��A�!lD����\u0014��BY@�`F0�z\u0001��\u0004n�e�X\u000e��%�8:}�)��������Bג\u001a\u0015\u0012\n",
      "$ openssl enc -rc4 -a -pbkdf2 -iter 1000000 -salt -in ./messages/plain/message3_from_alice.txt -out ./messages/encrypted/message3_from_alice.b64 -k 49Z2nCWMovpIp1d5IQxSFrWM9wfeTCp3fiPe8qjI6Yk=\n",
      "\n",
      "$ cat ./messages/encrypted/message3_from_alice.b64\n",
      "U2FsdGVkX1/p5/irQovCc89oE74bE+e09+yEZbkBOn6YcgarXbTaLp02X8KUf4iT\n",
      "Qws=\n"
     ]
    }
   ],
   "source": [
    "#if files already exist, remove them\n",
    "remove_files([\"./messages/plain/message3_from_alice.txt\", \"./messages/signed/message3_from_alice.sign\", \"./messages/hashed/message3_from_alice.hash\", \"./messages/encrypted/message3_from_alice.b64\"])\n",
    "\n",
    "with open(\"./messages/plain/message3_from_alice.txt\", \"x\") as f:\n",
    "    f.write(\"This is a test message from Alice.\")\n",
    "\n",
    "\n",
    "hash_message = \"openssl dgst -sha224 -out ./messages/hashed/message3_from_alice.hash ./messages/plain/message3_from_alice.txt\"\n",
    "display_hash = \"cat ./messages/hashed/message3_from_alice.hash\"\n",
    "sign_message = \"openssl dgst -sha224 -sign ./RSA/alice_private_key.pem -out ./messages/signed/message3_from_alice.sign ./messages/hashed/message3_from_alice.hash\"\n",
    "display_signature = \"cat ./messages/signed/message3_from_alice.sign\"\n",
    "encrypt_message = f\"openssl enc -rc4 -a -pbkdf2 -iter 1000000 -salt -in ./messages/plain/message3_from_alice.txt -out ./messages/encrypted/message3_from_alice.b64 -k {key}\"\n",
    "display_encrypted_message = \"cat ./messages/encrypted/message3_from_alice.b64\"\n",
    "\n",
    "call_command(hash_message)\n",
    "call_command(display_hash)\n",
    "call_command(sign_message)\n",
    "call_command(display_signature)\n",
    "print()\n",
    "call_command(encrypt_message)\n",
    "call_command(display_encrypted_message)"
   ]
  },
  {
   "cell_type": "markdown",
   "metadata": {},
   "source": [
    "Bob is now going to decrypt the file, then check the signature by getting the hash of the decrypted message, and comparing it with the signature.\n",
    "```\n",
    "openssl enc -rc4 -d -a -pbkdf2 -iter 1000000 -in ./messages/encrypted/message3_from_alice.b64 -out ./messages/plain/message3_from_alice.txt -k <symmetric_key>\n",
    "openssl dgst -sha224 -out ./messages/hashed/message3_from_alice.hash ./messages/plain/message3_from_alice.txt\n",
    "openssl dgst -sha224 -verify ./RSA_keys/alice_public_key.pem -signature ./messages/signed/message3_from_alice.sign ./messages/hashed/message3_from_alice.hash\n",
    "```\n"
   ]
  },
  {
   "cell_type": "code",
   "execution_count": 124,
   "metadata": {},
   "outputs": [
    {
     "name": "stdout",
     "output_type": "stream",
     "text": [
      "$ openssl enc -rc4 -d -a -pbkdf2 -iter 1000000 -in ./messages/encrypted/message3_from_alice.b64 -out ./messages/plain/message3_from_alice.txt -k 49Z2nCWMovpIp1d5IQxSFrWM9wfeTCp3fiPe8qjI6Yk=\n",
      "\n",
      "$ cat ./messages/plain/message3_from_alice.txt\n",
      "This is a test message from Alice.\n",
      "$ openssl dgst -sha224 -out ./messages/hashed/message3_from_alice.hash ./messages/plain/message3_from_alice.txt\n",
      "$ cat ./messages/hashed/message3_from_alice.hash\n",
      "SHA224(./messages/plain/message3_from_alice.txt)= 6dbee1454fade32c4e4ba7a950bac91ad5e2513d95622989572380a2\n",
      "$ openssl dgst -sha224 -verify ./RSA/alice_public_key.pem -signature ./messages/signed/message3_from_alice.sign ./messages/hashed/message3_from_alice.hash\n",
      "Verified OK\n"
     ]
    }
   ],
   "source": [
    "#if files already exist, remove them\n",
    "remove_files([\"./messages/decrypted/message3_from_alice.dec\", \"./messages/hashed/message3_from_alice.hash\", \"./messages/plain/message3_from_alice.txt\"])\n",
    "\n",
    "decrypt_message = f\"openssl enc -rc4 -d -a -pbkdf2 -iter 1000000 -in ./messages/encrypted/message3_from_alice.b64 -out ./messages/plain/message3_from_alice.txt -k {key}\"\n",
    "display_decrypted_message = \"cat ./messages/plain/message3_from_alice.txt\"\n",
    "hash_of_alice_message = \"openssl dgst -sha224 -out ./messages/hashed/message3_from_alice.hash ./messages/plain/message3_from_alice.txt\"\n",
    "display_hash_of_alice_message = \"cat ./messages/hashed/message3_from_alice.hash\"\n",
    "verify_signature = \"openssl dgst -sha224 -verify ./RSA/alice_public_key.pem -signature ./messages/signed/message3_from_alice.sign ./messages/hashed/message3_from_alice.hash\"\n",
    "\n",
    "call_command(decrypt_message)\n",
    "call_command(display_decrypted_message)\n",
    "print()\n",
    "call_command(hash_of_alice_message)\n",
    "call_command(display_hash_of_alice_message)\n",
    "call_command(verify_signature)\n",
    "\n",
    "#TODO: GET HASH FROM FILE, NOT PASS WHOLE FILE (also upper)"
   ]
  },
  {
   "cell_type": "markdown",
   "metadata": {},
   "source": [
    "### Encrypt, then sign\n",
    "Alice wants to send an encrypted and signed message to Bob.\n",
    "This time, she decides to encrypt it before signing it.\n",
    "\n",
    "To do so, she encrypt the message, then get the hash of the encrypted message and use it to sign the message.\n",
    "```\n",
    "openssl enc -rc4 -a -pbkdf2 -iter 1000000 -salt -in ./messages/plain/message4_from_alice.txt -out ./messages/encrypted/message4_from_alice.b64 -k<symmetric_key>\n",
    "openssl dgst -sha224 -out ./messages/hashed/message4_from_alice.hash ./messages/encrypted/message4_from_alice.b64\n",
    "openssl dgst -sha224 -sign ./DSA/alice_private_key.pem -out ./messages/signed/message4_from_alice.sign ./messages/hashed/message4_from_alice.hash\n",
    "```"
   ]
  },
  {
   "cell_type": "code",
   "execution_count": 125,
   "metadata": {},
   "outputs": [
    {
     "name": "stdout",
     "output_type": "stream",
     "text": [
      "$ openssl enc -rc4 -a -pbkdf2 -iter 1000000 -salt -in ./messages/plain/message4_from_alice.txt -out ./messages/encrypted/message4_from_alice.b64 -k 49Z2nCWMovpIp1d5IQxSFrWM9wfeTCp3fiPe8qjI6Yk=\n",
      "\n",
      "$ cat ./messages/encrypted/message4_from_alice.b64\n",
      "U2FsdGVkX18CRvNPNyKj26l3wgNjUHzlSDyZE9FXrS0+wF3ixrUg5Ec6Q7vZ0eyC\n",
      "7lg=\n",
      "$ openssl dgst -sha224 -out ./messages/hashed/message4_from_alice.hash ./messages/encrypted/message4_from_alice.b64\n",
      "$ cat ./messages/hashed/message4_from_alice.hash\n",
      "SHA224(./messages/encrypted/message4_from_alice.b64)= cb7b9163638938fb2710d0f40dc2383a52059ff87ec6ef23307c426b\n",
      "$ openssl dgst -sha224 -sign ./DSA/alice_private_key.pem -out ./messages/signed/message4_from_alice.sign ./messages/hashed/message4_from_alice.hash\n",
      "$ cat ./messages/signed/message4_from_alice.sign\n",
      "0.\u0002\u0015\u0000��\u0015�5��Vǆ\u0018��4�\u0001F,n�\u0002\u0015\u0000�΂)�6��$_d\u0003�\u0003�$���J"
     ]
    }
   ],
   "source": [
    "#if files already exist, remove them\n",
    "remove_files([\"./messages/plain/message4_from_alice.txt\", \"./messages/encrypted/message4_from_alice.b64\", \"./messages/hashed/message4_from_alice.hash\", \"./messages/signed/message4_from_alice.sign\"])\n",
    "\n",
    "with open(\"./messages/plain/message4_from_alice.txt\", \"x\") as f:\n",
    "    f.write(\"This is a test message from Alice.\")\n",
    "\n",
    "encrypt_message = f\"openssl enc -rc4 -a -pbkdf2 -iter 1000000 -salt -in ./messages/plain/message4_from_alice.txt -out ./messages/encrypted/message4_from_alice.b64 -k {key}\"\n",
    "display_encrypted_message = \"cat ./messages/encrypted/message4_from_alice.b64\"\n",
    "hash_message = \"openssl dgst -sha224 -out ./messages/hashed/message4_from_alice.hash ./messages/encrypted/message4_from_alice.b64\"\n",
    "display_hash = \"cat ./messages/hashed/message4_from_alice.hash\"\n",
    "sign_message = \"openssl dgst -sha224 -sign ./DSA/alice_private_key.pem -out ./messages/signed/message4_from_alice.sign ./messages/hashed/message4_from_alice.hash\"\n",
    "display_signature = \"cat ./messages/signed/message4_from_alice.sign\"\n",
    "\n",
    "call_command(encrypt_message)\n",
    "call_command(display_encrypted_message)\n",
    "call_command(hash_message)\n",
    "call_command(display_hash)\n",
    "call_command(sign_message)\n",
    "call_command(display_signature)"
   ]
  },
  {
   "cell_type": "markdown",
   "metadata": {},
   "source": [
    "Bob is now going to check the signature by getting the hash of the decrypted message, then comparing it with the signature, and decrypt the file\n",
    "```\n",
    "openssl dgst -sha224 -out ./messages/hashed/message4_from_alice.hash ./messages/encrypted/message4_from_alice.b64\n",
    "openssl dgst -sha224 -verify ./DSA/alice_public_key.pem -signature ./messages/signed/message4_from_alice.sign ./messages/hashed/message4_from_alice.hash\n",
    "openssl enc -rc4 -d -a -pbkdf2 -iter 1000000 -in ./messages/encrypted/message4_from_alice.b64 -out ./messages/decrypted/message4_from_alice.dec -k <symmetric_key>\n",
    "```\n"
   ]
  },
  {
   "cell_type": "code",
   "execution_count": 126,
   "metadata": {},
   "outputs": [
    {
     "name": "stdout",
     "output_type": "stream",
     "text": [
      "$ openssl dgst -sha224 -out ./messages/hashed/message4_from_alice.hash ./messages/encrypted/message4_from_alice.b64\n",
      "$ cat ./messages/hashed/message4_from_alice.hash\n",
      "SHA224(./messages/encrypted/message4_from_alice.b64)= cb7b9163638938fb2710d0f40dc2383a52059ff87ec6ef23307c426b\n",
      "$ openssl dgst -sha224 -verify ./DSA/alice_public_key.pem -signature ./messages/signed/message4_from_alice.sign ./messages/hashed/message4_from_alice.hash\n",
      "Verified OK\n",
      "$ openssl enc -rc4 -d -a -pbkdf2 -iter 1000000 -in ./messages/encrypted/message4_from_alice.b64 -out ./messages/decrypted/message4_from_alice.dec -k 49Z2nCWMovpIp1d5IQxSFrWM9wfeTCp3fiPe8qjI6Yk=\n",
      "\n",
      "$ cat ./messages/decrypted/message4_from_alice.dec\n",
      "This is a test message from Alice."
     ]
    }
   ],
   "source": [
    "#if files already exist, remove them\n",
    "remove_files([\"alice_message.dec\", \"hash_of_alice_enc_message.txt\"])\n",
    "\n",
    "\n",
    "hash_of_alice_message = \"openssl dgst -sha224 -out ./messages/hashed/message4_from_alice.hash ./messages/encrypted/message4_from_alice.b64\"\n",
    "display_hash_of_alice_message = \"cat ./messages/hashed/message4_from_alice.hash\"\n",
    "verify_signature = \"openssl dgst -sha224 -verify ./DSA/alice_public_key.pem -signature ./messages/signed/message4_from_alice.sign ./messages/hashed/message4_from_alice.hash\"\n",
    "decrypt_message = f\"openssl enc -rc4 -d -a -pbkdf2 -iter 1000000 -in ./messages/encrypted/message4_from_alice.b64 -out ./messages/decrypted/message4_from_alice.dec -k {key}\"\n",
    "display_decrypted_message = \"cat ./messages/decrypted/message4_from_alice.dec\"\n",
    "\n",
    "call_command(hash_of_alice_message)\n",
    "call_command(display_hash_of_alice_message)\n",
    "call_command(verify_signature)\n",
    "call_command(decrypt_message)\n",
    "call_command(display_decrypted_message)\n"
   ]
  },
  {
   "cell_type": "markdown",
   "metadata": {},
   "source": [
    "## 6. ChatGPT solution"
   ]
  },
  {
   "cell_type": "markdown",
   "metadata": {},
   "source": [
    "I've asked chatGPT (version 3.5) to do the exercice.\n",
    "Let's observe the answers.\n",
    "Modifications on chatGPT's answers were made in the python code to change to input and output files, to make sure that the workspace stays organized.\n",
    "\n",
    "### 6.1 Using RSA for exchanging a symmetric key\n",
    "Here is the code generated by the IA.\n",
    "```\n",
    "# Generate RSA private key\n",
    "openssl genpkey -algorithm RSA -out private_key.pem\n",
    "\n",
    "# Extract RSA public key\n",
    "openssl rsa -pubout -in private_key.pem -out public_key.pem\n",
    "\n",
    "# Generate a symmetric key (e.g., AES-256)\n",
    "openssl rand -base64 32 > symmetric_key.txt\n",
    "\n",
    "# Encrypt the symmetric key with RSA public key\n",
    "openssl rsautl -encrypt -inkey public_key.pem -pubin -in symmetric_key.txt -out encrypted_symmetric_key.txt\n",
    "\n",
    "# Decrypt the symmetric key with RSA private key\n",
    "openssl rsautl -decrypt -inkey private_key.pem -in encrypted_symmetric_key.txt -out decrypted_symmetric_key.txt\n",
    "```\n",
    "When compared with the code in chapter 1, the command are all the same. One of the only difference is the use of the parameter `ras_keygen_bits` on my code to specifically ask for 1024 instead of the default value 2048.  \n",
    "It therefore seems that the IA solution work the same way as mine. "
   ]
  },
  {
   "cell_type": "code",
   "execution_count": 127,
   "metadata": {},
   "outputs": [
    {
     "name": "stdout",
     "output_type": "stream",
     "text": [
      "$ openssl genpkey -algorithm RSA -out ./RSA/GPT_private_key.pem\n",
      "$ openssl rsa -pubout -in ./RSA/GPT_private_key.pem -out ./RSA/GPT_public_key.pem\n",
      "$ openssl rsautl -encrypt -inkey ./RSA/GPT_public_key.pem -pubin -in ./sym_keys/GPT_symmetric_key.txt -out ./sym_keys/GPT_encrypted_symmetric_key.txt\n",
      "$ openssl rsautl -decrypt -inkey ./RSA/GPT_private_key.pem -in ./sym_keys/GPT_encrypted_symmetric_key.txt -out ./sym_keys/GPT_decrypted_symmetric_key.txt\n"
     ]
    },
    {
     "name": "stderr",
     "output_type": "stream",
     "text": [
      ".....+++++\n",
      "..+++++\n",
      "writing RSA key\n"
     ]
    }
   ],
   "source": [
    "#if files already exist, remove them\n",
    "remove_files([\"private_key.pem\", \"public_key.pem\", \"symmetric_key.txt\", \"encrypted_symmetric_key.txt\"])\n",
    "\n",
    "\n",
    "# Generate RSA private key\n",
    "generate_rsa_key = \"openssl genpkey -algorithm RSA -out ./RSA/GPT_private_key.pem\"\n",
    "\n",
    "# Extract RSA public key\n",
    "extract_rsa_pub_key = \"openssl rsa -pubout -in ./RSA/GPT_private_key.pem -out ./RSA/GPT_public_key.pem\"\n",
    "\n",
    "# Generate a symmetric key (e.g., AES-256)\n",
    "gen_sym_key = \"openssl rand -base64 32 > ./sym_keys/GPT_symmetric_key.txt\"\n",
    "\n",
    "# Encrypt the symmetric key with RSA public key\n",
    "encrypt = \"openssl rsautl -encrypt -inkey ./RSA/GPT_public_key.pem -pubin -in ./sym_keys/GPT_symmetric_key.txt -out ./sym_keys/GPT_encrypted_symmetric_key.txt\"\n",
    "\n",
    "# Decrypt the symmetric key with RSA private key\n",
    "decrypt = \"openssl rsautl -decrypt -inkey ./RSA/GPT_private_key.pem -in ./sym_keys/GPT_encrypted_symmetric_key.txt -out ./sym_keys/GPT_decrypted_symmetric_key.txt\"\n",
    "\n",
    "\n",
    "call_command(generate_rsa_key)\n",
    "call_command(extract_rsa_pub_key)\n",
    "#usual function do not work with \">\", so we use subprocess\n",
    "subprocess.run([\"openssl\", \"rand\", \"-base64\", \"32\"], stdout=open(\"./sym_keys/GPT_symmetric_key.txt\", \"x\"))\n",
    "call_command(encrypt)\n",
    "call_command(decrypt)"
   ]
  },
  {
   "cell_type": "markdown",
   "metadata": {},
   "source": [
    "### 6.2 Encrypting and decrypting with RC4 in RFB mode:\n",
    "\n",
    "Here is the code generated by the IA.\n",
    "```\n",
    "# Encrypt with RC4 in CFB mode using the symmetric key\n",
    "openssl enc -rc4-cfb -in plaintext.txt -out encrypted_rc4.txt -pass file:decrypted_symmetric_key.txt\n",
    "\n",
    "# Decrypt using RC4 in CFB mode\n",
    "openssl enc -d -rc4-cfb -in encrypted_rc4.txt -out decrypted_rc4.txt -pass file:decrypted_symmetric_key.txt\n",
    "```\n",
    "\n",
    "Here, ChatGPT didn't do as well as the precedent chapter.  \n",
    "He used the flag `-rc4-cfb` for the encryption method, which doesn't exist, so the command generated are not usable. But the flags `-rc2-cfb` and `-rc5-cfb` do exists, that could explain the mistake.\n",
    "\n",
    "A difference between the answer at chapter 2 and chatGPT's answer is the usage of the two parameters `-iter` and `-pbkdf2`. These two parameters are optional, but not using them create a warning, as the old and default method of key derivation is deprecated, and the usage of these parameters makes OpenSSL use the new one.  \n",
    "ChatGPT do not use them, so if the flag `-rc4-cfb` were to work, the command would still issue a warning."
   ]
  },
  {
   "cell_type": "code",
   "execution_count": 128,
   "metadata": {},
   "outputs": [
    {
     "name": "stdout",
     "output_type": "stream",
     "text": [
      "$ openssl enc -rc4-cfb -in ./messages/plain/GPT_plaintext.txt -out ./messages/encrypted/GPT_encrypted_rc4.txt -pass file:./sym_keys/GPT_decrypted_symmetric_key.txt\n"
     ]
    },
    {
     "name": "stderr",
     "output_type": "stream",
     "text": [
      "enc: Unrecognized flag rc4-cfb\n",
      "enc: Use -help for summary.\n"
     ]
    },
    {
     "name": "stdout",
     "output_type": "stream",
     "text": [
      "Error:\n",
      "Return code: 1\n",
      "$ openssl enc -d -rc4-cfb -in ./messages/encrypted/GPT_encrypted_rc4.txt -out ./messages/decrypted/GPT_decrypted_rc4.txt -pass file:./sym_keys/GPT_decrypted_symmetric_key.txt\n",
      "Error:\n",
      "Return code: 1\n"
     ]
    },
    {
     "name": "stderr",
     "output_type": "stream",
     "text": [
      "enc: Unrecognized flag rc4-cfb\n",
      "enc: Use -help for summary.\n"
     ]
    }
   ],
   "source": [
    "#if files already exist, remove them\n",
    "remove_files([\"./messages/plain/GPT_plaintext.txt\", \"./messages/encrypted/GPT_encrypted.txt\", \"./messages/decrypted/GPT_decrypted.txt\"])\n",
    "\n",
    "with open(\"./messages/plain/GPT_plaintext.txt\", \"x\") as f:\n",
    "    f.write(\"This is a test message.\")\n",
    "\n",
    "encrypt = \"openssl enc -rc4-cfb -in ./messages/plain/GPT_plaintext.txt -out ./messages/encrypted/GPT_encrypted_rc4.txt -pass file:./sym_keys/GPT_decrypted_symmetric_key.txt\"\n",
    "decrypt = \"openssl enc -d -rc4-cfb -in ./messages/encrypted/GPT_encrypted_rc4.txt -out ./messages/decrypted/GPT_decrypted_rc4.txt -pass file:./sym_keys/GPT_decrypted_symmetric_key.txt\"\n",
    "\n",
    "call_command(encrypt)\n",
    "call_command(decrypt)"
   ]
  },
  {
   "cell_type": "markdown",
   "metadata": {},
   "source": [
    "### 6.3 Using SHA224 to hash a message\n",
    "Here is the code generated by the IA\n",
    "```\n",
    "# Hash a message using SHA224\n",
    "echo -n \"YourMessageHere\" | openssl dgst -sha224\n",
    "```\n",
    "\n",
    "This answer is quite different from the one at chapter 3, but it's mostly due to the fact that at the chapter three, the input and output are files. Here, we pass the message as a string in the command, and we write the hash in the terminal. But it still does what it's expected to do: Hash a string in SHA224."
   ]
  },
  {
   "cell_type": "code",
   "execution_count": 129,
   "metadata": {},
   "outputs": [
    {
     "name": "stdout",
     "output_type": "stream",
     "text": [
      "(stdin)= d14a028c2a3a2bc9476102bb288234c415a2b01f828ea62ac5b3e42f\n"
     ]
    },
    {
     "data": {
      "text/plain": [
       "CompletedProcess(args=['openssl', 'dgst', '-sha224'], returncode=0)"
      ]
     },
     "execution_count": 129,
     "metadata": {},
     "output_type": "execute_result"
    }
   ],
   "source": [
    "hash = \"echo -n \\\"YourMessageHere\\\" | openssl dgst -sha224\"\n",
    "\n",
    "subprocess.run([\"echo\", \"-n\", \"\\\"YourMessageHere\\\"\"], stdout=subprocess.PIPE)\n",
    "subprocess.run([\"openssl\", \"dgst\", \"-sha224\"], stdin=subprocess.PIPE)"
   ]
  },
  {
   "cell_type": "markdown",
   "metadata": {},
   "source": [
    "### 6.4 Using DSA to sign a message\n",
    "\n",
    "Here is the code generated by the IA\n",
    "```\n",
    "# Generate DSA parameters and private key\n",
    "openssl dsaparam -out dsaparam.pem 2048\n",
    "openssl gendsa -out private_dsa.pem dsaparam.pem\n",
    "\n",
    "# Sign a message using DSA private key\n",
    "echo -n \"YourMessageHere\" | openssl dgst -dss1 -sign private_dsa.pem -out signature.bin\n",
    "```\n",
    "\n",
    "Here, chatGPT used again a flag that doesn't exist, \"-dss1\", and he sign a non-hashed message, which can be done, but it's usually more efficent to sign the hash of the message."
   ]
  },
  {
   "cell_type": "code",
   "execution_count": 130,
   "metadata": {},
   "outputs": [
    {
     "name": "stdout",
     "output_type": "stream",
     "text": [
      "$ openssl dsaparam -out ./DSA/GPT_param.pem 2048\n"
     ]
    },
    {
     "name": "stderr",
     "output_type": "stream",
     "text": [
      "Generating DSA parameters, 2048 bit long prime\n",
      "This could take some time\n",
      ".........+...+..+......+.........+..+....+.+++++++++++++++++++++++++++++++++++++++++++++++++++++++++++++++++*\n",
      "..+......+...............+..+.....+...+...........+.........+..............+...+.................................................+.............+...................+........+.....+....+.................+.......+......+....+..............+........+.....+..+...+.+...............+..........+............+.+...................+.+......+..........+.......+..+..+.+...........+....+......+......................+........+..................+.......+........+.......+......+........................+.+....+...........+.....................+.................+.....................+.....+..........+...+++++++++++++++++++++++++++++++++++++++++++++++++++++++++++++++++*\n",
      "Generating DSA key, 2048 bits\n"
     ]
    },
    {
     "name": "stdout",
     "output_type": "stream",
     "text": [
      "$ openssl gendsa -out ./DSA/GPT_private_key.pem ./DSA/GPT_param.pem\n"
     ]
    },
    {
     "name": "stderr",
     "output_type": "stream",
     "text": [
      "dgst: Unrecognized flag dss1\n",
      "dgst: Use -help for summary.\n"
     ]
    },
    {
     "data": {
      "text/plain": [
       "CompletedProcess(args=['openssl', 'dgst', '-dss1', '-sign', './DSA/GPT_private_key.pem', '-out', './messages/signed/GPT_signed_message1.bin'], returncode=1)"
      ]
     },
     "execution_count": 130,
     "metadata": {},
     "output_type": "execute_result"
    }
   ],
   "source": [
    "#if files already exist, remove them\n",
    "remove_files([\"./DSA/GPT_param.pem\", \"./DSA/GPT_private_key.pem\"])\n",
    "\n",
    "create_param = \"openssl dsaparam -out ./DSA/GPT_param.pem 2048\"\n",
    "gen_private_key = \"openssl gendsa -out ./DSA/GPT_private_key.pem ./DSA/GPT_param.pem\"\n",
    "\n",
    "call_command(create_param)\n",
    "call_command(gen_private_key)\n",
    "\n",
    "subprocess.run([\"echo\", \"-n\", \"\\\"YourMessageHere\\\"\"], stdout=subprocess.PIPE)\n",
    "subprocess.run([\"openssl\", \"dgst\", \"-dss1\", \"-sign\", \"./DSA/GPT_private_key.pem\", \"-out\", \"./messages/signed/GPT_signed_message1.bin\"], stdin=subprocess.PIPE)"
   ]
  },
  {
   "cell_type": "markdown",
   "metadata": {},
   "source": [
    "### 6.5 Signing and encrypting in different order\n",
    "#### Signing and encrypting\n",
    "```\n",
    "# Sign the message using DSA private key\n",
    "echo -n \"YourMessageHere\" | openssl dgst -dss1 -sign private_dsa.pem -out signed_message.bin\n",
    "\n",
    "# Encrypt the signed message using RC4 in CFB mode with the symmetric key\n",
    "openssl enc -rc4-cfb -in signed_message.bin -out encrypted_signed_message.txt -pass file:decrypted_symmetric_key.txt\n",
    "```\n",
    "\n",
    "#### Encrypting then signing\n",
    "```\n",
    "# Encrypt the message using RC4 in CFB mode with the symmetric key\n",
    "openssl enc -rc4-cfb -in plaintext.txt -out encrypted_message.txt -pass file:decrypted_symmetric_key.txt\n",
    "\n",
    "# Sign the encrypted message using DSA private key\n",
    "openssl dgst -dss1 -sign private_dsa.pem -in encrypted_message.txt -out signed_encrypted_message.bin\n",
    "```\n",
    "\n",
    "In this answer, chatGPT used the same wrongs flags as the precedent answer.\n",
    "He also encrypted the signature of the message instead of the message in the first part of the answer."
   ]
  },
  {
   "cell_type": "code",
   "execution_count": 131,
   "metadata": {},
   "outputs": [
    {
     "name": "stderr",
     "output_type": "stream",
     "text": [
      "dgst: Unrecognized flag dss1\n",
      "dgst: Use -help for summary.\n"
     ]
    },
    {
     "name": "stdout",
     "output_type": "stream",
     "text": [
      "$ openssl enc -rc4-cfb -in ./messages/signed/GPT_signed_message1.bin -out ./messages/encrypted/GPT_encrypted_signed_message1.bin -pass file:./sym_keys/GPT_decrypted_symmetric_key.txt\n",
      "Error:\n",
      "Return code: 1\n",
      "$ openssl enc -rc4-cfb -in ./messages/plain/GPT_plaintext.txt -out ./messages/encrypted/GPT_encrypted_message1.txt -pass file:./sym_keys/GPT_decrypted_symmetric_key.txt\n",
      "Error:\n",
      "Return code: 1\n",
      "$ openssl dgst -dss1 -sign ./DSA/GPT_private_key.pem -in ./messages/encrypted/GPT_encrypted_message1.txt -out ./messages/signed/GPT_signed_encrypted_message1.bin\n",
      "Error:\n",
      "Return code: 1\n"
     ]
    },
    {
     "name": "stderr",
     "output_type": "stream",
     "text": [
      "enc: Unrecognized flag rc4-cfb\n",
      "enc: Use -help for summary.\n",
      "enc: Unrecognized flag rc4-cfb\n",
      "enc: Use -help for summary.\n",
      "dgst: Unrecognized flag dss1\n",
      "dgst: Use -help for summary.\n"
     ]
    }
   ],
   "source": [
    "\n",
    "encrypt_signed_message = \"openssl enc -rc4-cfb -in ./messages/signed/GPT_signed_message1.bin -out ./messages/encrypted/GPT_encrypted_signed_message1.bin -pass file:./sym_keys/GPT_decrypted_symmetric_key.txt\"\n",
    "\n",
    "encrypt_plain_message = \"openssl enc -rc4-cfb -in ./messages/plain/GPT_plaintext.txt -out ./messages/encrypted/GPT_encrypted_message1.txt -pass file:./sym_keys/GPT_decrypted_symmetric_key.txt\"\n",
    "sign_encrypted_message = \"openssl dgst -dss1 -sign ./DSA/GPT_private_key.pem -in ./messages/encrypted/GPT_encrypted_message1.txt -out ./messages/signed/GPT_signed_encrypted_message1.bin\"\n",
    "\n",
    "subprocess.run([\"echo\", \"-n\", \"\\\"YourMessageHere\\\"\"], stdout=subprocess.PIPE)\n",
    "subprocess.run([\"openssl\", \"dgst\", \"-dss1\", \"-sign\", \"./DSA/GPT_private_key.pem\", \"-out\", \"./messages/signed/GPT_signed_message1.bin\"], stdin=subprocess.PIPE)\n",
    "call_command(encrypt_signed_message)\n",
    "\n",
    "call_command(encrypt_plain_message)\n",
    "call_command(sign_encrypted_message)"
   ]
  }
 ],
 "metadata": {
  "kernelspec": {
   "display_name": "Python 3",
   "language": "python",
   "name": "python3"
  },
  "language_info": {
   "codemirror_mode": {
    "name": "ipython",
    "version": 3
   },
   "file_extension": ".py",
   "mimetype": "text/x-python",
   "name": "python",
   "nbconvert_exporter": "python",
   "pygments_lexer": "ipython3",
   "version": "3.8.10"
  }
 },
 "nbformat": 4,
 "nbformat_minor": 2
}
